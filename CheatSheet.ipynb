{
  "nbformat": 4,
  "nbformat_minor": 0,
  "metadata": {
    "colab": {
      "provenance": [],
      "include_colab_link": true
    },
    "kernelspec": {
      "name": "python3",
      "display_name": "Python 3"
    },
    "language_info": {
      "name": "python"
    }
  },
  "cells": [
    {
      "cell_type": "markdown",
      "metadata": {
        "id": "view-in-github",
        "colab_type": "text"
      },
      "source": [
        "<a href=\"https://colab.research.google.com/github/carlosvr0/PL-SQL_REPO/blob/main/CheatSheet.ipynb\" target=\"_parent\"><img src=\"https://colab.research.google.com/assets/colab-badge.svg\" alt=\"Open In Colab\"/></a>"
      ]
    },
    {
      "cell_type": "markdown",
      "source": [
        "# **PL/SQL**\n",
        "\n",
        "###Procedural Language/Structured Query Language.\n",
        "\n",
        "---"
      ],
      "metadata": {
        "id": "Fnq31tOnOY1j"
      }
    },
    {
      "cell_type": "markdown",
      "source": [
        "**DECLARE**\n",
        "\n",
        "    -- Declaraciones de variables y tipos de datos\n",
        "\n",
        "**BEGIN**\n",
        "\n",
        "    -- Código PL/SQL\n",
        "\n",
        "**EXCEPTION**\n",
        "\n",
        "    -- Manejo de excepciones\n",
        "    \n",
        "**END;**\n"
      ],
      "metadata": {
        "id": "nHxR8V1xLCq7"
      }
    },
    {
      "cell_type": "code",
      "source": [
        "BEGIN\n",
        "  DBMS_OUTPUT.put_line ('Hello World!');\n",
        "END;"
      ],
      "metadata": {
        "id": "gWFOnkGiO12P"
      },
      "execution_count": null,
      "outputs": []
    },
    {
      "cell_type": "markdown",
      "source": [
        "**DECLARE**\n",
        "\n",
        "  l_message\n",
        "\n",
        "  VARCHAR2 (100) := 'Hello World!';\n",
        "\n",
        "  END\n",
        "\n",
        "**BEGIN**\n",
        "\n",
        "  DBMS_OUTPUT.put_line (l_message);\n",
        "\n",
        "**END;**"
      ],
      "metadata": {
        "id": "Z8cd2ZoHLMsq"
      }
    },
    {
      "cell_type": "markdown",
      "source": [
        "##Describir la estructura general de un bloque PL/SQL (con un ejemplo)\n",
        "\n",
        "\n",
        "\n",
        "\n",
        "\n",
        "\n",
        "\n",
        "\n",
        "\n"
      ],
      "metadata": {
        "id": "9lhbxSVbPZ22"
      }
    },
    {
      "cell_type": "markdown",
      "source": [
        "##¿Cómo se hacen declaraciones de variables y constantes? Proponga ejemplos con distintos tipos de datos."
      ],
      "metadata": {
        "id": "BK0Rp3RTPeGY"
      }
    },
    {
      "cell_type": "markdown",
      "source": [
        "##Explicar las instrucciones de control de PL/SQL, ilustre sus respuestas por medio de ejemplos."
      ],
      "metadata": {
        "id": "uQkXaYUXPhf-"
      }
    },
    {
      "cell_type": "markdown",
      "source": [
        "##Explique cómo se declaran y usan los procedimientos/funciones por medio de ejemplos."
      ],
      "metadata": {
        "id": "yBKoi2-lPm8q"
      }
    },
    {
      "cell_type": "markdown",
      "source": [
        "##¿Qué es una excepción, cuáles son sus tipos y cómo se hace el manejo de excepciones?"
      ],
      "metadata": {
        "id": "evTXgHPsPp-L"
      }
    },
    {
      "cell_type": "markdown",
      "source": [
        "##¿Qué son los cursores de SQL y cómo se declaran?  ilustre esto con un ejemplo.\n"
      ],
      "metadata": {
        "id": "hJfKXeTDPurU"
      }
    },
    {
      "cell_type": "markdown",
      "source": [
        "##¿Qué son los triggers y para qué pueden ser utilizados?"
      ],
      "metadata": {
        "id": "HD0WdnWkPys9"
      }
    },
    {
      "cell_type": "markdown",
      "source": [
        "## Diferencias entre los triggers  BEFORE, AFTER, e  INSTEAD OF"
      ],
      "metadata": {
        "id": "3NIMYdSwP1iZ"
      }
    }
  ]
}